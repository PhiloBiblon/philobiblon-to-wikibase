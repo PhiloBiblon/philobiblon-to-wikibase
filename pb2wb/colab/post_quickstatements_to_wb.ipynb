{
  "cells": [
    {
      "cell_type": "markdown",
      "metadata": {
        "id": "view-in-github",
        "colab_type": "text"
      },
      "source": [
        "<a href=\"https://colab.research.google.com/github/PhiloBiblon/philobiblon-to-wikibase/blob/master/pb2wb/colab/post_quickstatements_to_wb.ipynb\" target=\"_parent\"><img src=\"https://colab.research.google.com/assets/colab-badge.svg\" alt=\"Open In Colab\"/></a>"
      ]
    },
    {
      "cell_type": "code",
      "execution_count": 1,
      "metadata": {
        "id": "lAxWMP15ZofD"
      },
      "outputs": [],
      "source": [
        "from google.colab import auth\n",
        "from googleapiclient.discovery import build\n",
        "import os\n",
        "import subprocess\n",
        "import time\n",
        "import datetime\n",
        "import json\n",
        "import io\n",
        "from googleapiclient.http import MediaIoBaseDownload"
      ]
    },
    {
      "cell_type": "code",
      "execution_count": 2,
      "metadata": {
        "id": "uK99N4bLZ1__"
      },
      "outputs": [],
      "source": [
        "auth.authenticate_user()"
      ]
    },
    {
      "cell_type": "code",
      "execution_count": 3,
      "metadata": {
        "id": "xic-_snBZ5NL"
      },
      "outputs": [],
      "source": [
        "service = build('drive', 'v3')"
      ]
    },
    {
      "cell_type": "code",
      "execution_count": 4,
      "metadata": {
        "id": "NaT5r5mnxxSP"
      },
      "outputs": [],
      "source": [
        "SPLIT_FILES_SOURCE = {'BETA': '187KTNwJ2LZXf5d8WAFO1qnP6g8Yqderw',\n",
        "                      'BITECA': '',\n",
        "                      'BITAGAP': ''}\n",
        "\n",
        "SPLIT_FILES_PROCESSED= {'BETA': '1lc-XTCm9lSAfO6xIxxQ5K_4LzHhj3nPl',\n",
        "                           'BITECA': '',\n",
        "                           'BITAGAP': ''}\n",
        "WB_CONFIGS = {\n",
        "    'pb.cloud': {\n",
        "        'MEDIAWIKI_API_URL': 'https://pbsandbox.wikibase.cloud/qs/api.php',\n",
        "        'WB_USER': 'pb.cloud.user',\n",
        "        'WB_PASSWORD': 'pb.cloud.password',\n",
        "        'WB_TOKEN': 'pb.cloud.token'\n",
        "    },\n",
        "    'pb.cog': {\n",
        "        'MEDIAWIKI_API_URL': \"https://philobiblon.cog.berkeley.edu/qs/api.php\",\n",
        "        'WB_USER': 'pb.cog.user',\n",
        "        'WB_PASSWORD': 'pb.cog.password',\n",
        "        'WB_TOKEN': 'pb.cog.token',\n",
        "    },\n",
        "        'factgrid': {\n",
        "        'MEDIAWIKI_API_URL': \"https://database.factgrid.de/qs/api.php\",\n",
        "        'WB_USER': 'factgrid.user',\n",
        "        'WB_PASSWORD': 'factgrid.password',\n",
        "        'WB_TOKEN': 'factgrid.token',\n",
        "    }\n",
        "}\n",
        "\n",
        "# Manually update bibliography, table and instance that is to be updated\n",
        "bibliography = 'BETA' # BETA BITECA BITAGAP\n",
        "table = 'ms_ed' # 'geography' 'analytic' 'library' 'ms_ed' 'biographies' 'copies' 'institutions' 'subject' 'uniform_title'\n",
        "instance = \"pb.cog\" # pb.cloud pb.cog factgrid\n",
        "batch_id = ''\n",
        "start_time = time.time()\n",
        "elapsed_time = 0\n",
        "max_seconds = 36000\n",
        "complete_status = False"
      ]
    },
    {
      "cell_type": "code",
      "execution_count": 5,
      "metadata": {
        "id": "iFun94tv9TTp"
      },
      "outputs": [],
      "source": [
        "from google.colab import userdata\n",
        "URL = WB_CONFIGS[instance]['MEDIAWIKI_API_URL']\n",
        "WB_USER = userdata.get(WB_CONFIGS[instance]['WB_USER'])\n",
        "WB_PASSWORD = userdata.get(WB_CONFIGS[instance]['WB_PASSWORD'])\n",
        "WB_TOKEN = userdata.get(WB_CONFIGS[instance]['WB_TOKEN'])"
      ]
    },
    {
      "cell_type": "code",
      "execution_count": 6,
      "metadata": {
        "id": "ROJUV1wB8cEQ"
      },
      "outputs": [],
      "source": [
        "def time_check():\n",
        "    elapsed_time = time.time() - start_time\n",
        "    print(f\"Elapsed time: {elapsed_time} seconds\")\n",
        "    return elapsed_time"
      ]
    },
    {
      "cell_type": "code",
      "execution_count": 7,
      "metadata": {
        "id": "eeJGaYdvlDQy"
      },
      "outputs": [],
      "source": [
        "def get_batch_status(batch_id):\n",
        "    batch_status_command = f\"curl {URL} -d action=get_batch_info -d batch={batch_id}\"\n",
        "    batch_status = subprocess.run(batch_status_command, capture_output=True, text=True, shell=True)\n",
        "    try:\n",
        "        data = json.loads(batch_status.stdout)\n",
        "        batch_status = data[\"data\"][str(batch_id)][\"batch\"][\"status\"]\n",
        "    except json.JSONDecodeError:\n",
        "        print(\"Error parsing JSON output:\", batch_status.stdout)\n",
        "    try:\n",
        "        error_count = data[\"data\"][str(batch_id)][\"commands\"]['ERROR']\n",
        "    except:\n",
        "        error_count = 0\n",
        "    return batch_status, error_count"
      ]
    },
    {
      "cell_type": "code",
      "execution_count": 8,
      "metadata": {
        "id": "k0tPgYSQzTpy"
      },
      "outputs": [],
      "source": [
        "def move_file(source_id, destination_id, file_name, file_id):\n",
        "    file = service.files().get(fileId=file_id, fields='parents').execute()\n",
        "    previous_parents = \",\".join(file.get('parents'))\n",
        "    file = service.files().update(fileId=file_id,\n",
        "                                  addParents=destination_id,\n",
        "                                  removeParents=previous_parents,\n",
        "                                  fields='id, parents').execute()\n",
        "\n",
        "    print(f\"File '{file_name}' moved to folder with ID '{destination_id}'.\")"
      ]
    },
    {
      "cell_type": "code",
      "source": [
        "def extract_numeric_value(item):\n",
        "    # Extract the numeric value from the name\n",
        "    numeric_value = int(item['name'].split('_')[-1].split('.')[0])\n",
        "    return numeric_value"
      ],
      "metadata": {
        "id": "fT0ol1Tm58DU"
      },
      "execution_count": 9,
      "outputs": []
    },
    {
      "cell_type": "code",
      "execution_count": null,
      "metadata": {
        "colab": {
          "base_uri": "https://localhost:8080/"
        },
        "id": "AdmASJlTfZJV",
        "outputId": "96b370a8-6ac2-4e2d-cebb-762cd57e9dc6"
      },
      "outputs": [
        {
          "output_type": "stream",
          "name": "stdout",
          "text": [
            "Items:\n",
            "split_beta_subject_qs_0.qs (1-qlcelS7kzHkTke3dpdH8rV4IgqDLIww)\n",
            "split_beta_biography_qs_28.qs (1JLrudqewuONn4r_kqtLAGytsBx6rqE_A)\n",
            "split_beta_biography_qs_27.qs (1tQyK1IwW_VNXXqn60zonhycWi7ez4kLn)\n",
            "split_beta_biography_qs_26.qs (1qGvVquQ5cEXOutMrND3qFwa86EW_BGWu)\n",
            "split_beta_biography_qs_25.qs (1HRZcGFHOA3XUQ2-FscLVkAywhoo8gI9o)\n",
            "split_beta_biography_qs_24.qs (1sgiqVf7o1u29n6T7GROi6pezbqoRZQum)\n",
            "split_beta_biography_qs_23.qs (1PAHXJCw5S_oXG__HmTs-796huR_ZyBgX)\n",
            "split_beta_biography_qs_22.qs (13IvS5wzX_ydvDL6bnW_T0Cdq_aSPHTb1)\n",
            "split_beta_biography_qs_21.qs (1sRu_xVuVjtYm7rE_471DxTgYXb_ptyUl)\n",
            "split_beta_biography_qs_20.qs (1pkOvvMHDfWoYzIKbh9thozMlzhyvv-ok)\n",
            "split_beta_biography_qs_19.qs (1myPnjFys8dR52l2_IadYF8hcSXc-X16r)\n",
            "split_beta_biography_qs_18.qs (1cnbNe3_xQq80j56eRQw-I-TGn5-0q16o)\n",
            "split_beta_biography_qs_17.qs (1nY4gSuJkVRGrB9K9PKnUBkcosZsQWPjh)\n",
            "split_beta_biography_qs_16.qs (1TUZ7ar6hrMXb-3uo_y6Fz2JGutMIWJ_i)\n",
            "split_beta_biography_qs_15.qs (1nFqZQv9BXwllSXwKbBwmuOA8NBcRImaL)\n",
            "split_beta_biography_qs_14.qs (19QX5nK45rJ10XpySGMdArHOQRL06VARf)\n",
            "split_beta_biography_qs_13.qs (1YYfz_usI9NGAypDhd4rCPjkExGkKhmDX)\n",
            "split_beta_biography_qs_12.qs (1nz--GnD9myZNDonDdMvGgSbfAaWynwFs)\n",
            "split_beta_biography_qs_11.qs (1nPru8qo-3HQLymCcH1ZAoXWznDfYwHJ2)\n",
            "split_beta_biography_qs_10.qs (1STyfbbJDR338XvZj9PJPXDnvyvg8oXgI)\n",
            "split_beta_biography_qs_9.qs (1FsCmZFoMhODF_fIaceISTN-i6DT6-Yis)\n",
            "split_beta_biography_qs_8.qs (1BwXBQasA_C9afFvUxoJY-nUpeR1AOcHF)\n",
            "split_beta_biography_qs_7.qs (1VFPsawnkEGiDI6kfbtQw0EVKXFFBQxXS)\n",
            "split_beta_biography_qs_6.qs (15znrYFD44AFRM250eywwsKQKCFOfaQy6)\n",
            "split_beta_biography_qs_5.qs (1ipLCSW2ZjkTnDSElmgx0gBKMVbeK4u-a)\n",
            "split_beta_biography_qs_4.qs (10Rg657ha8jgDEcUlduZX08C3kK3IN4iR)\n",
            "split_beta_biography_qs_3.qs (1WrSnuPMCnkly6Bw5s91O_lqG9jYylbny)\n",
            "split_beta_biography_qs_2.qs (1jybiJxj3AmTqUJUWW3iL7LDzqRKzQ0ZC)\n",
            "split_beta_biography_qs_1.qs (1mdL22pMEhPGHO1P11FZTe22_2eRqPT5M)\n",
            "split_beta_biography_qs_0.qs (1BIY1S7BrX4yNUHypOyy24eJrK7K4QDdT)\n",
            "split_beta_ms_ed_qs_20.qs (1JQPpI05zQgtmyD2eni_iGIMBsI748IUm)\n",
            "split_beta_ms_ed_qs_19.qs (1g69QIW9Bd8iiAHYoeMDQMcnFMsiFcdoP)\n",
            "split_beta_ms_ed_qs_18.qs (166gVbOAzpRlj3TCeCq5qXQ3Iqpzl6CJ6)\n",
            "split_beta_ms_ed_qs_17.qs (1UPfY0DpIJi9pnU8U-mSY9ZNB5RxEXg-P)\n",
            "split_beta_ms_ed_qs_16.qs (14MLjpKfs3d6oG8GS69mrbFa-LIqpkQrd)\n",
            "split_beta_ms_ed_qs_15.qs (1XHYrgFKYkIAKKQgIPa2YD61pnrp8ohvw)\n",
            "split_beta_ms_ed_qs_14.qs (1tkgaWO3jmJLWqxbLxHKdeeJBLk9IcWd1)\n",
            "split_beta_ms_ed_qs_13.qs (1T9UEbTl7xbfi0jIw2GiUHDRxdZvvmwuK)\n",
            "split_beta_ms_ed_qs_12.qs (1nRny0-o-VCyaDhOGbRjDLFtzZ0O-gwAG)\n",
            "split_beta_ms_ed_qs_11.qs (1aFp-GOrWW4JYKUNYboebVxkpRM0RGhtU)\n",
            "split_beta_ms_ed_qs_10.qs (1ckLT8lDYs-7mGLWHJBFdREMHMd-2gGwg)\n",
            "split_beta_ms_ed_qs_9.qs (1GyPRqYGaKTtD0XYVS2taOWCQtYFUlvFf)\n",
            "split_beta_ms_ed_qs_8.qs (1T9rE2Av42iXS2tnoU_S1k2Dr5hRzcYFt)\n",
            "split_beta_ms_ed_qs_7.qs (1aB-6YEVbfVNiI48-lsC8g63Y-duz6y_y)\n",
            "split_beta_ms_ed_qs_6.qs (10uVANoWw7mBR0UVQgBlDj6MB_W6kAx98)\n",
            "split_beta_ms_ed_qs_5.qs (1oSL--pauUbBcMFP42yh9AcSvDVUEEmhf)\n",
            "split_beta_ms_ed_qs_4.qs (1-wMsAgFHIzilpy2n0mZBnvtCixFRXJKr)\n",
            "split_beta_ms_ed_qs_3.qs (1LqEDjK62rAuRSi1frBNEzy4yrsk8qai9)\n",
            "split_beta_ms_ed_qs_2.qs (1uIpkYFendpkGjL_TRfjwixdzlBPGnUc-)\n",
            "split_beta_ms_ed_qs_1.qs (1bpRDIoda6GN22vqUxAnefviuUhwUKw_x)\n",
            "split_beta_ms_ed_qs_0.qs (1OUXlaQM9mdgjYH60RavbYzA71AH8RHew)\n",
            "Split Files Done (1lc-XTCm9lSAfO6xIxxQ5K_4LzHhj3nPl)\n",
            "[{'id': '1JQPpI05zQgtmyD2eni_iGIMBsI748IUm', 'name': 'split_beta_ms_ed_qs_20.qs'}, {'id': '1g69QIW9Bd8iiAHYoeMDQMcnFMsiFcdoP', 'name': 'split_beta_ms_ed_qs_19.qs'}, {'id': '166gVbOAzpRlj3TCeCq5qXQ3Iqpzl6CJ6', 'name': 'split_beta_ms_ed_qs_18.qs'}, {'id': '1UPfY0DpIJi9pnU8U-mSY9ZNB5RxEXg-P', 'name': 'split_beta_ms_ed_qs_17.qs'}, {'id': '14MLjpKfs3d6oG8GS69mrbFa-LIqpkQrd', 'name': 'split_beta_ms_ed_qs_16.qs'}, {'id': '1XHYrgFKYkIAKKQgIPa2YD61pnrp8ohvw', 'name': 'split_beta_ms_ed_qs_15.qs'}, {'id': '1tkgaWO3jmJLWqxbLxHKdeeJBLk9IcWd1', 'name': 'split_beta_ms_ed_qs_14.qs'}, {'id': '1T9UEbTl7xbfi0jIw2GiUHDRxdZvvmwuK', 'name': 'split_beta_ms_ed_qs_13.qs'}, {'id': '1nRny0-o-VCyaDhOGbRjDLFtzZ0O-gwAG', 'name': 'split_beta_ms_ed_qs_12.qs'}, {'id': '1aFp-GOrWW4JYKUNYboebVxkpRM0RGhtU', 'name': 'split_beta_ms_ed_qs_11.qs'}, {'id': '1ckLT8lDYs-7mGLWHJBFdREMHMd-2gGwg', 'name': 'split_beta_ms_ed_qs_10.qs'}, {'id': '1GyPRqYGaKTtD0XYVS2taOWCQtYFUlvFf', 'name': 'split_beta_ms_ed_qs_9.qs'}, {'id': '1T9rE2Av42iXS2tnoU_S1k2Dr5hRzcYFt', 'name': 'split_beta_ms_ed_qs_8.qs'}, {'id': '1aB-6YEVbfVNiI48-lsC8g63Y-duz6y_y', 'name': 'split_beta_ms_ed_qs_7.qs'}, {'id': '10uVANoWw7mBR0UVQgBlDj6MB_W6kAx98', 'name': 'split_beta_ms_ed_qs_6.qs'}, {'id': '1oSL--pauUbBcMFP42yh9AcSvDVUEEmhf', 'name': 'split_beta_ms_ed_qs_5.qs'}, {'id': '1-wMsAgFHIzilpy2n0mZBnvtCixFRXJKr', 'name': 'split_beta_ms_ed_qs_4.qs'}, {'id': '1LqEDjK62rAuRSi1frBNEzy4yrsk8qai9', 'name': 'split_beta_ms_ed_qs_3.qs'}, {'id': '1uIpkYFendpkGjL_TRfjwixdzlBPGnUc-', 'name': 'split_beta_ms_ed_qs_2.qs'}, {'id': '1bpRDIoda6GN22vqUxAnefviuUhwUKw_x', 'name': 'split_beta_ms_ed_qs_1.qs'}, {'id': '1OUXlaQM9mdgjYH60RavbYzA71AH8RHew', 'name': 'split_beta_ms_ed_qs_0.qs'}]\n",
            "List of all files to be processed: ['split_beta_ms_ed_qs_20.qs', 'split_beta_ms_ed_qs_19.qs', 'split_beta_ms_ed_qs_18.qs', 'split_beta_ms_ed_qs_17.qs', 'split_beta_ms_ed_qs_16.qs', 'split_beta_ms_ed_qs_15.qs', 'split_beta_ms_ed_qs_14.qs', 'split_beta_ms_ed_qs_13.qs', 'split_beta_ms_ed_qs_12.qs', 'split_beta_ms_ed_qs_11.qs', 'split_beta_ms_ed_qs_10.qs', 'split_beta_ms_ed_qs_9.qs', 'split_beta_ms_ed_qs_8.qs', 'split_beta_ms_ed_qs_7.qs', 'split_beta_ms_ed_qs_6.qs', 'split_beta_ms_ed_qs_5.qs', 'split_beta_ms_ed_qs_4.qs', 'split_beta_ms_ed_qs_3.qs', 'split_beta_ms_ed_qs_2.qs', 'split_beta_ms_ed_qs_1.qs', 'split_beta_ms_ed_qs_0.qs']\n",
            "Elapsed time: 135.45103693008423 seconds\n",
            "split_beta_ms_ed_qs_20.qs (1JQPpI05zQgtmyD2eni_iGIMBsI748IUm)\n",
            "Downloading file: split_beta_ms_ed_qs_20.qs\n",
            "Download 100%.\n",
            "File 'split_beta_ms_ed_qs_20.qs' downloaded successfully.\n",
            "File 'split_beta_ms_ed_qs_20.qs' moved to folder with ID '1lc-XTCm9lSAfO6xIxxQ5K_4LzHhj3nPl'.\n",
            "Batch ID: 65\n",
            "Batch import 65 still running, sleeping for 10 minutes\n"
          ]
        }
      ],
      "source": [
        "path_id = SPLIT_FILES_SOURCE[str(bibliography)]\n",
        "destination_id = SPLIT_FILES_PROCESSED[str(bibliography)]\n",
        "\n",
        "# Check for files in source directory\n",
        "results = service.files().list(q=f\"'{path_id}' in parents and trashed=false\", pageSize=1000, fields=\"nextPageToken, files(id, name)\").execute()\n",
        "items = results.get('files', [])\n",
        "if not items:\n",
        "    print('No items found.')\n",
        "else:\n",
        "    print('Items:')\n",
        "    for item in items:\n",
        "        print(u'{0} ({1})'.format(item['name'], item['id']))\n",
        "\n",
        "item_dict = [item for item in items if isinstance(item, dict)][0]\n",
        "table_items = [item for item in items if item['name'].endswith('.qs') and table in item['name']]\n",
        "print(table_items)\n",
        "\n",
        "# Sort table items by split number\n",
        "sorted_table_items = sorted(table_items, key=extract_numeric_value, reverse=True)\n",
        "table_items = sorted_table_items\n",
        "\n",
        "# Extract names from sorted items\n",
        "names = [item['name'] for item in table_items]\n",
        "print(f'List of all files to be processed: {names}')\n",
        "\n",
        "# Loop through sorted items and process\n",
        "elapsed_time = time_check() # Get elapsed time so far to start\n",
        "while elapsed_time < max_seconds and not complete_status:\n",
        "    for table_item in table_items:\n",
        "        date = datetime.datetime.now().strftime(\"%Y%m%d_%H%M\")\n",
        "        batchname = f'{bibliography}_{table}_{date}'\n",
        "        print(u'{0} ({1})'.format(table_item['name'], table_item['id']))\n",
        "        file_id = table_item['id']\n",
        "        file_name = table_item['name']\n",
        "        # Download the file\n",
        "        print(f'Downloading file: {file_name}')\n",
        "        request = service.files().get_media(fileId=file_id)\n",
        "        fh = io.BytesIO()\n",
        "        downloader = MediaIoBaseDownload(fh, request)\n",
        "        done = False\n",
        "        while done is False:\n",
        "            status, done = downloader.next_chunk()\n",
        "            print(\"Download %d%%.\" % int(status.progress() * 100))\n",
        "\n",
        "        # Save the file to your Colab environment\n",
        "        with open(file_name, 'wb') as f:\n",
        "            f.write(fh.getbuffer())\n",
        "            print(f\"File '{file_name}' downloaded successfully.\")\n",
        "\n",
        "        # Run curl command submitting batch\n",
        "        curl_command = f'curl {URL} -d action=import -d submit=1 -d format=v1 -d username={WB_USER} -d batchname={batchname} --data-raw token=\\'{WB_TOKEN}\\' --data-urlencode data@{file_name}'\n",
        "        post_qs = subprocess.run(curl_command, capture_output=True, text=True, shell=True)\n",
        "        time.sleep(10) # Wait for batch to initiate\n",
        "\n",
        "        # move qs file to completed folder after submitted batch\n",
        "        move_file(path_id, destination_id, file_name, file_id)\n",
        "\n",
        "        if post_qs.returncode != 0:\n",
        "            print(\"Error executing curl command:\", post_qs.stderr)\n",
        "            exit(1)\n",
        "        try:\n",
        "            data = json.loads(post_qs.stdout)\n",
        "            batch_id = data[\"batch_id\"]\n",
        "        except json.JSONDecodeError:\n",
        "            print(f\"Error parsing JSON output for {batch_id}:\", post_qs.stdout)\n",
        "            continue\n",
        "        print(f\"Batch ID: {batch_id}\")\n",
        "        status = get_batch_status(batch_id)\n",
        "        while status != \"DONE\":\n",
        "            print(f'Batch import {batch_id} still running, sleeping for 10 minutes')\n",
        "            time.sleep(600)\n",
        "            print(\"Checking batch status\")\n",
        "            status, error_count = get_batch_status(batch_id)\n",
        "        print(f'Batch import {batch_id} complete with status {status}')\n",
        "        print(f'Batch {batch_id} had {error_count} errors')\n",
        "\n",
        "        # update elapsed time\n",
        "        elapsed_time = time_check()\n",
        "\n",
        "    complete_status = True\n",
        "\n",
        "print(f'All files processed.  Completed in: {elapsed_time} seconds')"
      ]
    }
  ],
  "metadata": {
    "colab": {
      "provenance": [],
      "authorship_tag": "ABX9TyOPB324mfRVQ/9scL8jT5jW",
      "include_colab_link": true
    },
    "kernelspec": {
      "display_name": "Python 3",
      "name": "python3"
    },
    "language_info": {
      "name": "python"
    }
  },
  "nbformat": 4,
  "nbformat_minor": 0
}