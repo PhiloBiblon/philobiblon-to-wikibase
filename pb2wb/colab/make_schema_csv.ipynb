{
  "cells": [
    {
      "cell_type": "markdown",
      "metadata": {
        "id": "view-in-github",
        "colab_type": "text"
      },
      "source": [
        "<a href=\"https://colab.research.google.com/github/PhiloBiblon/philobiblon-to-wikibase/blob/master/pb2wb/colab/make_schema_csv.ipynb\" target=\"_parent\"><img src=\"https://colab.research.google.com/assets/colab-badge.svg\" alt=\"Open In Colab\"/></a>"
      ]
    },
    {
      "cell_type": "code",
      "source": [
        "def extract_entity_edits(data):\n",
        "    def extract_value(value):\n",
        "        return {\n",
        "            \"columnName\": value.get(\"columnName\"),\n",
        "            \"id\": value.get(\"id\"),\n",
        "            \"amount\": {\"columnName\": value.get(\"amount\", {}).get(\"columnName\")},\n",
        "            \"unit\": {\n",
        "                \"id\": value.get(\"unit\", {}).get(\"id\"),\n",
        "                \"label\": value.get(\"unit\", {}).get(\"label\")\n",
        "            }\n",
        "        }\n",
        "\n",
        "    def extract_qualifiers(qualifiers):\n",
        "        return [\n",
        "            {\n",
        "                \"prop\": {\n",
        "                    \"pid\": qualifier[\"prop\"][\"pid\"],\n",
        "                    \"label\": qualifier[\"prop\"][\"label\"]\n",
        "                },\n",
        "                \"value\": extract_value(qualifier[\"value\"])\n",
        "            }\n",
        "            for qualifier in qualifiers\n",
        "        ]\n",
        "\n",
        "    def extract_statements(statements):\n",
        "        return [\n",
        "            {\n",
        "                \"value\": extract_value(statement[\"value\"]),\n",
        "                \"qualifiers\": extract_qualifiers(statement.get(\"qualifiers\", []))\n",
        "            }\n",
        "            for statement in statements\n",
        "        ]\n",
        "\n",
        "    def extract_statement_groups(statement_groups):\n",
        "        return [\n",
        "            {\n",
        "                \"property\": {\n",
        "                    \"pid\": group[\"property\"][\"pid\"],\n",
        "                    \"label\": group[\"property\"][\"label\"]\n",
        "                },\n",
        "                \"statements\": extract_statements(group[\"statements\"])\n",
        "            }\n",
        "            for group in statement_groups\n",
        "        ]\n",
        "\n",
        "    return {\n",
        "        \"entityEdits\": [\n",
        "            {\n",
        "                \"statementGroups\": extract_statement_groups(edit[\"statementGroups\"])\n",
        "            }\n",
        "            for edit in data[\"entityEdits\"]\n",
        "        ]\n",
        "    }\n"
      ],
      "metadata": {
        "id": "ubUJOZn3lwkr"
      },
      "execution_count": 1,
      "outputs": []
    },
    {
      "cell_type": "code",
      "source": [
        "import json\n",
        "import csv\n",
        "import sys\n",
        "\n",
        "def json_to_csv(json_data, csv_filename):\n",
        "    # Open CSV file for writing\n",
        "    with open(csv_filename, mode='w', newline='', encoding='utf-8') as csv_file:\n",
        "        fieldnames = [\n",
        "            'property_pid', 'property_label',\n",
        "            'statement_value_columnName', 'statement_value_id',\n",
        "            'qualifier_prop_pid', 'qualifier_prop_label',\n",
        "            'qualifier_value_columnName', 'qualifier_value_amount_columnName',\n",
        "            'qualifier_value_unit_id', 'qualifier_value_unit_label'\n",
        "        ]\n",
        "\n",
        "        writer = csv.DictWriter(csv_file, fieldnames=fieldnames)\n",
        "        writer.writeheader()\n",
        "\n",
        "        # Iterate over the entityEdits and write rows to the CSV\n",
        "        for edit in json_data[\"entityEdits\"]:\n",
        "            for group in edit[\"statementGroups\"]:\n",
        "                property_pid = group[\"property\"][\"pid\"]\n",
        "                property_label = group[\"property\"][\"label\"]\n",
        "\n",
        "                for statement in group[\"statements\"]:\n",
        "                    statement_value_columnName = statement[\"value\"].get(\"columnName\")\n",
        "                    statement_value_id = statement[\"value\"].get(\"id\")\n",
        "\n",
        "                    # Write rows for each qualifier\n",
        "                    for qualifier in statement[\"qualifiers\"]:\n",
        "                        qualifier_prop_pid = qualifier[\"prop\"].get(\"pid\")\n",
        "                        qualifier_prop_label = qualifier[\"prop\"].get(\"label\")\n",
        "                        qualifier_value_columnName = qualifier[\"value\"].get(\"columnName\")\n",
        "                        qualifier_value_amount_columnName = qualifier[\"value\"].get(\"amount\", {}).get(\"columnName\")\n",
        "                        qualifier_value_unit_id = qualifier[\"value\"].get(\"unit\", {}).get(\"id\")\n",
        "                        qualifier_value_unit_label = qualifier[\"value\"].get(\"unit\", {}).get(\"label\")\n",
        "\n",
        "                        writer.writerow({\n",
        "                            'property_pid': property_pid,\n",
        "                            'property_label': property_label,\n",
        "                            'statement_value_columnName': statement_value_columnName,\n",
        "                            'statement_value_id': statement_value_id,\n",
        "                            'qualifier_prop_pid': qualifier_prop_pid,\n",
        "                            'qualifier_prop_label': qualifier_prop_label,\n",
        "                            'qualifier_value_columnName': qualifier_value_columnName,\n",
        "                            'qualifier_value_amount_columnName': qualifier_value_amount_columnName,\n",
        "                            'qualifier_value_unit_id': qualifier_value_unit_id,\n",
        "                            'qualifier_value_unit_label': qualifier_value_unit_label\n",
        "                        })\n",
        "\n"
      ],
      "metadata": {
        "id": "MmsMv5v9mmn8"
      },
      "execution_count": 28,
      "outputs": []
    },
    {
      "cell_type": "code",
      "source": [
        "import json\n",
        "import csv\n",
        "from google.colab import files\n",
        "uploaded = files.upload()\n"
      ],
      "metadata": {
        "colab": {
          "base_uri": "https://localhost:8080/",
          "height": 74
        },
        "id": "PTxODRuplEeT",
        "outputId": "49d8ea8c-b183-4788-f94e-07afcd941dc2"
      },
      "execution_count": 3,
      "outputs": [
        {
          "output_type": "display_data",
          "data": {
            "text/plain": [
              "<IPython.core.display.HTML object>"
            ],
            "text/html": [
              "\n",
              "     <input type=\"file\" id=\"files-6b481e86-b8bc-4bb7-b22b-89c98a987174\" name=\"files[]\" multiple disabled\n",
              "        style=\"border:none\" />\n",
              "     <output id=\"result-6b481e86-b8bc-4bb7-b22b-89c98a987174\">\n",
              "      Upload widget is only available when the cell has been executed in the\n",
              "      current browser session. Please rerun this cell to enable.\n",
              "      </output>\n",
              "      <script>// Copyright 2017 Google LLC\n",
              "//\n",
              "// Licensed under the Apache License, Version 2.0 (the \"License\");\n",
              "// you may not use this file except in compliance with the License.\n",
              "// You may obtain a copy of the License at\n",
              "//\n",
              "//      http://www.apache.org/licenses/LICENSE-2.0\n",
              "//\n",
              "// Unless required by applicable law or agreed to in writing, software\n",
              "// distributed under the License is distributed on an \"AS IS\" BASIS,\n",
              "// WITHOUT WARRANTIES OR CONDITIONS OF ANY KIND, either express or implied.\n",
              "// See the License for the specific language governing permissions and\n",
              "// limitations under the License.\n",
              "\n",
              "/**\n",
              " * @fileoverview Helpers for google.colab Python module.\n",
              " */\n",
              "(function(scope) {\n",
              "function span(text, styleAttributes = {}) {\n",
              "  const element = document.createElement('span');\n",
              "  element.textContent = text;\n",
              "  for (const key of Object.keys(styleAttributes)) {\n",
              "    element.style[key] = styleAttributes[key];\n",
              "  }\n",
              "  return element;\n",
              "}\n",
              "\n",
              "// Max number of bytes which will be uploaded at a time.\n",
              "const MAX_PAYLOAD_SIZE = 100 * 1024;\n",
              "\n",
              "function _uploadFiles(inputId, outputId) {\n",
              "  const steps = uploadFilesStep(inputId, outputId);\n",
              "  const outputElement = document.getElementById(outputId);\n",
              "  // Cache steps on the outputElement to make it available for the next call\n",
              "  // to uploadFilesContinue from Python.\n",
              "  outputElement.steps = steps;\n",
              "\n",
              "  return _uploadFilesContinue(outputId);\n",
              "}\n",
              "\n",
              "// This is roughly an async generator (not supported in the browser yet),\n",
              "// where there are multiple asynchronous steps and the Python side is going\n",
              "// to poll for completion of each step.\n",
              "// This uses a Promise to block the python side on completion of each step,\n",
              "// then passes the result of the previous step as the input to the next step.\n",
              "function _uploadFilesContinue(outputId) {\n",
              "  const outputElement = document.getElementById(outputId);\n",
              "  const steps = outputElement.steps;\n",
              "\n",
              "  const next = steps.next(outputElement.lastPromiseValue);\n",
              "  return Promise.resolve(next.value.promise).then((value) => {\n",
              "    // Cache the last promise value to make it available to the next\n",
              "    // step of the generator.\n",
              "    outputElement.lastPromiseValue = value;\n",
              "    return next.value.response;\n",
              "  });\n",
              "}\n",
              "\n",
              "/**\n",
              " * Generator function which is called between each async step of the upload\n",
              " * process.\n",
              " * @param {string} inputId Element ID of the input file picker element.\n",
              " * @param {string} outputId Element ID of the output display.\n",
              " * @return {!Iterable<!Object>} Iterable of next steps.\n",
              " */\n",
              "function* uploadFilesStep(inputId, outputId) {\n",
              "  const inputElement = document.getElementById(inputId);\n",
              "  inputElement.disabled = false;\n",
              "\n",
              "  const outputElement = document.getElementById(outputId);\n",
              "  outputElement.innerHTML = '';\n",
              "\n",
              "  const pickedPromise = new Promise((resolve) => {\n",
              "    inputElement.addEventListener('change', (e) => {\n",
              "      resolve(e.target.files);\n",
              "    });\n",
              "  });\n",
              "\n",
              "  const cancel = document.createElement('button');\n",
              "  inputElement.parentElement.appendChild(cancel);\n",
              "  cancel.textContent = 'Cancel upload';\n",
              "  const cancelPromise = new Promise((resolve) => {\n",
              "    cancel.onclick = () => {\n",
              "      resolve(null);\n",
              "    };\n",
              "  });\n",
              "\n",
              "  // Wait for the user to pick the files.\n",
              "  const files = yield {\n",
              "    promise: Promise.race([pickedPromise, cancelPromise]),\n",
              "    response: {\n",
              "      action: 'starting',\n",
              "    }\n",
              "  };\n",
              "\n",
              "  cancel.remove();\n",
              "\n",
              "  // Disable the input element since further picks are not allowed.\n",
              "  inputElement.disabled = true;\n",
              "\n",
              "  if (!files) {\n",
              "    return {\n",
              "      response: {\n",
              "        action: 'complete',\n",
              "      }\n",
              "    };\n",
              "  }\n",
              "\n",
              "  for (const file of files) {\n",
              "    const li = document.createElement('li');\n",
              "    li.append(span(file.name, {fontWeight: 'bold'}));\n",
              "    li.append(span(\n",
              "        `(${file.type || 'n/a'}) - ${file.size} bytes, ` +\n",
              "        `last modified: ${\n",
              "            file.lastModifiedDate ? file.lastModifiedDate.toLocaleDateString() :\n",
              "                                    'n/a'} - `));\n",
              "    const percent = span('0% done');\n",
              "    li.appendChild(percent);\n",
              "\n",
              "    outputElement.appendChild(li);\n",
              "\n",
              "    const fileDataPromise = new Promise((resolve) => {\n",
              "      const reader = new FileReader();\n",
              "      reader.onload = (e) => {\n",
              "        resolve(e.target.result);\n",
              "      };\n",
              "      reader.readAsArrayBuffer(file);\n",
              "    });\n",
              "    // Wait for the data to be ready.\n",
              "    let fileData = yield {\n",
              "      promise: fileDataPromise,\n",
              "      response: {\n",
              "        action: 'continue',\n",
              "      }\n",
              "    };\n",
              "\n",
              "    // Use a chunked sending to avoid message size limits. See b/62115660.\n",
              "    let position = 0;\n",
              "    do {\n",
              "      const length = Math.min(fileData.byteLength - position, MAX_PAYLOAD_SIZE);\n",
              "      const chunk = new Uint8Array(fileData, position, length);\n",
              "      position += length;\n",
              "\n",
              "      const base64 = btoa(String.fromCharCode.apply(null, chunk));\n",
              "      yield {\n",
              "        response: {\n",
              "          action: 'append',\n",
              "          file: file.name,\n",
              "          data: base64,\n",
              "        },\n",
              "      };\n",
              "\n",
              "      let percentDone = fileData.byteLength === 0 ?\n",
              "          100 :\n",
              "          Math.round((position / fileData.byteLength) * 100);\n",
              "      percent.textContent = `${percentDone}% done`;\n",
              "\n",
              "    } while (position < fileData.byteLength);\n",
              "  }\n",
              "\n",
              "  // All done.\n",
              "  yield {\n",
              "    response: {\n",
              "      action: 'complete',\n",
              "    }\n",
              "  };\n",
              "}\n",
              "\n",
              "scope.google = scope.google || {};\n",
              "scope.google.colab = scope.google.colab || {};\n",
              "scope.google.colab._files = {\n",
              "  _uploadFiles,\n",
              "  _uploadFilesContinue,\n",
              "};\n",
              "})(self);\n",
              "</script> "
            ]
          },
          "metadata": {}
        },
        {
          "output_type": "stream",
          "name": "stdout",
          "text": [
            "Saving schema.json to schema (1).json\n"
          ]
        }
      ]
    },
    {
      "cell_type": "code",
      "source": [
        "data = next(iter(uploaded.values()))\n",
        "import json\n",
        "input_json = json.loads(data.decode())"
      ],
      "metadata": {
        "id": "OzNoFxhslcQp"
      },
      "execution_count": 14,
      "outputs": []
    },
    {
      "cell_type": "code",
      "source": [
        "print(f'{len(input_json)}')"
      ],
      "metadata": {
        "colab": {
          "base_uri": "https://localhost:8080/"
        },
        "id": "waWzOV9iqMam",
        "outputId": "0ad55c09-a8bf-4d8e-93db-07f855964049"
      },
      "execution_count": 15,
      "outputs": [
        {
          "output_type": "stream",
          "name": "stdout",
          "text": [
            "4\n"
          ]
        }
      ]
    },
    {
      "cell_type": "code",
      "source": [
        "extracted_schema = extract_entity_edits(input_json)\n"
      ],
      "metadata": {
        "collapsed": true,
        "id": "CunQ30dbloCu"
      },
      "execution_count": 16,
      "outputs": []
    },
    {
      "cell_type": "code",
      "source": [
        "print(f'{len(extracted_schema)}')"
      ],
      "metadata": {
        "colab": {
          "base_uri": "https://localhost:8080/"
        },
        "id": "GxVSL029qWvu",
        "outputId": "4bba2ed5-f069-4c42-eabf-e472b9ad142f"
      },
      "execution_count": 29,
      "outputs": [
        {
          "output_type": "stream",
          "name": "stdout",
          "text": [
            "1\n"
          ]
        }
      ]
    },
    {
      "cell_type": "code",
      "source": [
        "from google.colab import drive\n",
        "drive.mount('/content/drive')\n"
      ],
      "metadata": {
        "colab": {
          "base_uri": "https://localhost:8080/"
        },
        "id": "eQ-HO5ZmpxUV",
        "outputId": "f4adfb7c-4dd0-446e-abd3-d209a3e40d92"
      },
      "execution_count": 18,
      "outputs": [
        {
          "output_type": "stream",
          "name": "stdout",
          "text": [
            "Drive already mounted at /content/drive; to attempt to forcibly remount, call drive.mount(\"/content/drive\", force_remount=True).\n"
          ]
        }
      ]
    },
    {
      "cell_type": "code",
      "source": [
        "outfile_name = 'extracted_schema.csv'\n",
        "outfile_name = f'/content/drive/My Drive/{outfile_name}'\n",
        "json_to_csv(extracted_schema, outfile_name)"
      ],
      "metadata": {
        "id": "7bOysBZmnAzt"
      },
      "execution_count": 30,
      "outputs": []
    }
  ],
  "metadata": {
    "colab": {
      "provenance": [],
      "include_colab_link": true
    },
    "kernelspec": {
      "display_name": "Python 3",
      "name": "python3"
    },
    "language_info": {
      "name": "python"
    }
  },
  "nbformat": 4,
  "nbformat_minor": 0
}