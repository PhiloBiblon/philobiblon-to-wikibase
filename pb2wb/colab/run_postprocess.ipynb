{
  "cells": [
    {
      "cell_type": "markdown",
      "metadata": {
        "id": "view-in-github",
        "colab_type": "text"
      },
      "source": [
        "<a href=\"https://colab.research.google.com/github/PhiloBiblon/philobiblon-to-wikibase/blob/master/pb2wb/colab/run_postprocess.ipynb\" target=\"_parent\"><img src=\"https://colab.research.google.com/assets/colab-badge.svg\" alt=\"Open In Colab\"/></a>"
      ]
    },
    {
      "cell_type": "code",
      "execution_count": null,
      "metadata": {
        "id": "Z5jHwjWfXMUQ",
        "colab": {
          "base_uri": "https://localhost:8080/"
        },
        "outputId": "a1bb5062-a153-47e1-abb8-707ea0f863ea"
      },
      "outputs": [
        {
          "output_type": "stream",
          "name": "stdout",
          "text": [
            "Authenticated\n",
            "fatal: destination path 'philobiblon-to-wikibase' already exists and is not an empty directory.\n"
          ]
        }
      ],
      "source": [
        "\n",
        "from google.colab import auth\n",
        "auth.authenticate_user()\n",
        "print('Authenticated')\n",
        "\n",
        "import os\n",
        "!git clone https://github.com/PhiloBiblon/philobiblon-to-wikibase.git\n",
        "os.chdir('philobiblon-to-wikibase/pb2wb')\n",
        "\n",
        "from googleapiclient.discovery import build\n",
        "from googleapiclient.http import MediaIoBaseDownload\n",
        "from googleapiclient.http import MediaFileUpload\n",
        "\n",
        "import io\n",
        "from postprocess.postprocessor.generic import GenericPostprocessor\n",
        "\n"
      ]
    },
    {
      "cell_type": "code",
      "execution_count": null,
      "metadata": {
        "id": "AyYpbgyjXidj"
      },
      "outputs": [],
      "source": [
        "service = build('drive', 'v3')"
      ]
    },
    {
      "cell_type": "code",
      "execution_count": null,
      "metadata": {
        "id": "6ezmirX3Xlj1"
      },
      "outputs": [],
      "source": [
        "# Set variables for folder id's, bib, tables and force statements\n",
        "\n",
        "OR_FILES_SOURCE = {'beta': '115pNT9ue480HAr996XbGRwWCLHFJK_V_',\n",
        "                   'biteca': '',\n",
        "                   'bitagap': ''}\n",
        "\n",
        "POST_FILES_DESTINATION = {'beta': '1efJDT_HJoIsrRBw1bySuIke6n3xaSTyt',\n",
        "                          'biteca': '',\n",
        "                          'bitagap': ''}\n",
        "\n",
        "# Set bibliography and tables to be post processed\n",
        "bibliography = ['beta'] #['beta', 'bitagap', 'biteca']\n",
        "tablenames = ['ms_ed', 'library', 'biography'] #['uniform_title', 'analytic', 'biography', 'library', 'copies', 'ms_ed', 'institutions', 'geography', 'bibliography', 'subject']\n"
      ]
    },
    {
      "cell_type": "code",
      "source": [
        "def find_file_id(folder_id, table):\n",
        "    query = f\"'{folder_id}' in parents and not mimeType='application/vnd.google-apps.folder'\"\n",
        "    results = service.files().list(q=query,fields=\"nextPageToken, files(id, name)\").execute()\n",
        "    file_name = [item['name'] for item in results['files'] if item['name'].endswith('.qs') and table in item['name']]\n",
        "    file_id = [item['id'] for item in results['files'] if item['name'].endswith('.qs') and table in item['name']]\n",
        "    if len(file_id) > 0:\n",
        "        return file_name[0], file_id[0]"
      ],
      "metadata": {
        "id": "FtAz1VVCInQX"
      },
      "execution_count": null,
      "outputs": []
    },
    {
      "cell_type": "code",
      "source": [
        "def create_folders(bib):\n",
        "  directory_path = f\"data/post/{bib}\"\n",
        "  if not os.path.exists(directory_path):\n",
        "    os.makedirs(directory_path)\n",
        "    print(f\"Directory '{directory_path}' created successfully.\")\n",
        "  else:\n",
        "    print(f\"Directory '{directory_path}' already exists.\")\n",
        "  return directory_path"
      ],
      "metadata": {
        "id": "AKesD_IhWLmC"
      },
      "execution_count": null,
      "outputs": []
    },
    {
      "cell_type": "code",
      "source": [
        "def download_file(file_name, file_id):\n",
        "    # Download the file\n",
        "    if len(file_id) > 0: # Check if file_id list contains any elements\n",
        "        print(f'Downloading file: {file_name} with id: {file_id}')\n",
        "        request = service.files().get_media(fileId=file_id)\n",
        "        fh = io.BytesIO()\n",
        "        downloader = MediaIoBaseDownload(fh, request)\n",
        "        done = False\n",
        "        while done is False:\n",
        "            status, done = downloader.next_chunk()\n",
        "            print(\"Download %d%%.\" % int(status.progress() * 100))\n",
        "    else:\n",
        "        print(f'No file found for {file_name}') # Handle the case of an empty file_id list\n",
        "\n",
        "    # Get the current working directory\n",
        "    cwd = os.getcwd()\n",
        "\n",
        "    # Construct the full path to the downloaded file\n",
        "    file_path = os.path.join(cwd, file_name)\n",
        "\n",
        "    # Save the downloaded file to the current working directory\n",
        "    with open(file_path, 'wb') as f:\n",
        "        fh.seek(0)\n",
        "        f.write(fh.read())\n",
        "\n",
        "    print(f'File downloaded to: {file_path}')"
      ],
      "metadata": {
        "id": "RH_r-D5gGrB9"
      },
      "execution_count": null,
      "outputs": []
    },
    {
      "cell_type": "code",
      "source": [
        "def move_file(destination_id, file_name):\n",
        "    file_metadata = {'name': os.path.basename(file_name)}\n",
        "    media = MediaFileUpload(file_name)  # Adjust mimetype if needed\n",
        "    file = service.files().create(body=file_metadata, media_body=media, fields='id').execute()\n",
        "    file_id = file['id']\n",
        "\n",
        "    # Move the uploaded file to the desired folder\n",
        "    file = service.files().get(fileId=file_id, fields='parents').execute()\n",
        "    previous_parents = \",\".join(file.get('parents'))\n",
        "    file = service.files().update(fileId=file_id,\n",
        "                                  addParents=destination_id,\n",
        "                                  removeParents=previous_parents,\n",
        "                                  fields='id, parents').execute()\n",
        "\n",
        "    print(f'File {file_name} copied successfully! File ID: {file_id}')"
      ],
      "metadata": {
        "id": "qTGYiuVc02NO"
      },
      "execution_count": null,
      "outputs": []
    },
    {
      "cell_type": "code",
      "source": [
        "force_new_statements = True\n",
        "\n",
        "for bib in bibliography:\n",
        "  print(f'Processing for {bib} bibliography')\n",
        "  directory_path = create_folders(bib)\n",
        "  for item in tablenames:\n",
        "    print(f'Starting processing {item} table')\n",
        "    folder_id = OR_FILES_SOURCE[bib]\n",
        "    post_folder_id = POST_FILES_DESTINATION[bib]\n",
        "\n",
        "    try:\n",
        "      file_name, file_id = find_file_id(folder_id, item)\n",
        "    except:\n",
        "      print(f'No file found for {item}')\n",
        "      continue\n",
        "\n",
        "    download_file(file_name, file_id)\n",
        "    GenericPostprocessor().postprocess(file_name, directory_path, force_new_statements)\n",
        "    print(f'postprocess complete for {item}')\n",
        "    print('................................')\n",
        "\n",
        "    # Move processed file to Drive\n",
        "    #move_file(post_folder_id, directory_path + '/' + file_name, file_id)\n",
        "    move_file(post_folder_id, directory_path + '/' + file_name)\n",
        "\n",
        "  print('Post processing complete')\n",
        "\n"
      ],
      "metadata": {
        "colab": {
          "base_uri": "https://localhost:8080/"
        },
        "id": "ONV5_ETMQmHj",
        "outputId": "2328e0d9-1600-470a-9fbf-8cbd7558098a"
      },
      "execution_count": null,
      "outputs": [
        {
          "output_type": "stream",
          "name": "stdout",
          "text": [
            "Processing for beta bibliography\n",
            "Directory 'data/post/beta' already exists.\n",
            "Starting processing ms_ed table\n",
            "Downloading file: beta_ms_ed.qs with id: 1UBAjWta17UeKMhjDT5b5sdBPISW7o8F3\n",
            "Download 100%.\n",
            "File downloaded to: /content/philobiblon-to-wikibase/pb2wb/beta_ms_ed.qs\n",
            "True\n",
            "postprocess complete for ms_ed\n",
            "................................\n",
            "File data/post/beta/beta_ms_ed.qs copied successfully! File ID: 1wtajIZNhfo4yPCWHmYP_-gzTRfhWjYvx\n",
            "Starting processing library table\n",
            "Downloading file: beta_library.qs with id: 1sCXkGIEFRkhGzqPAI6_z-Mbzl0TiVApl\n",
            "Download 100%.\n",
            "File downloaded to: /content/philobiblon-to-wikibase/pb2wb/beta_library.qs\n",
            "True\n",
            "postprocess complete for library\n",
            "................................\n",
            "File data/post/beta/beta_library.qs copied successfully! File ID: 1HvK_v-phEfC_6_gEP9zItYoRW2ZA7hvu\n",
            "Starting processing biography table\n",
            "Downloading file: beta_biography.qs with id: 1Fy8tTu2DSyfedYh_4tosC33CMJD55fKi\n",
            "Download 100%.\n",
            "File downloaded to: /content/philobiblon-to-wikibase/pb2wb/beta_biography.qs\n",
            "True\n",
            "postprocess complete for biography\n",
            "................................\n",
            "File data/post/beta/beta_biography.qs copied successfully! File ID: 1lO9j4A4pNCl18A8IKXy2Fv8r3mEkxrUs\n",
            "Post processing complete\n"
          ]
        }
      ]
    }
  ],
  "metadata": {
    "colab": {
      "provenance": [],
      "authorship_tag": "ABX9TyOzg/M6RzLCqDYJgVcRthK2",
      "include_colab_link": true
    },
    "kernelspec": {
      "display_name": "Python 3",
      "name": "python3"
    },
    "language_info": {
      "name": "python"
    }
  },
  "nbformat": 4,
  "nbformat_minor": 0
}