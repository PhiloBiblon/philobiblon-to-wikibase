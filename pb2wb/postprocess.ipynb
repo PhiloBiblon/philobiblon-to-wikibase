{
 "cells": [
  {
   "cell_type": "code",
   "execution_count": 1,
   "id": "9c0345d0-1795-4819-8d84-05272d0b984a",
   "metadata": {},
   "outputs": [],
   "source": [
    "import os\n",
    "\n",
    "# Find and set working directory path to pb2wb\n",
    "userpath = os.path.expanduser('~')\n",
    "path = [path for path,_,_ in os.walk(userpath) if path.endswith('pb2wb')][0]\n",
    "os.chdir(path)\n",
    "\n",
    "from postprocess import postprocess\n",
    "from common import enums\n",
    "import subprocess, sys\n"
   ]
  },
  {
   "cell_type": "code",
   "execution_count": 2,
   "id": "79e42307-37b4-44bc-bb8e-5022ee582b24",
   "metadata": {},
   "outputs": [
    {
     "name": "stdout",
     "output_type": "stream",
     "text": [
      "Default Encoding: utf-8\n"
     ]
    },
    {
     "name": "stderr",
     "output_type": "stream",
     "text": [
      "Your configuration specifies to merge with the ref 'refs/heads/jason-work'\n",
      "from the remote, but no such ref was fetched.\n"
     ]
    },
    {
     "data": {
      "text/plain": [
       "CompletedProcess(args='git pull', returncode=1)"
      ]
     },
     "execution_count": 2,
     "metadata": {},
     "output_type": "execute_result"
    }
   ],
   "source": [
    "# Find Default encoding\n",
    "# Print default encoding\n",
    "df_encode = sys.getdefaultencoding()\n",
    "print(f'Default Encoding: {df_encode}')\n",
    "\n",
    "# Run git pull on cwd\n",
    "subprocess.run('git pull', shell = True)"
   ]
  },
  {
   "cell_type": "code",
   "execution_count": 3,
   "id": "18f99c36-99c7-4227-8f4f-0fed6e1a833c",
   "metadata": {},
   "outputs": [
    {
     "name": "stdout",
     "output_type": "stream",
     "text": [
      "Table.UNIFORM_TITLE\n",
      "postprocess complete for uniform_title\n",
      "post processed file can be located: ../data/processed/post/BETA/beta_uniform_title.qs\n",
      "Table.ANALYTIC\n",
      "postprocess complete for analytic\n",
      "post processed file can be located: ../data/processed/post/BETA/beta_analytic.qs\n",
      "Table.LIBRARY\n",
      "postprocess complete for library\n",
      "post processed file can be located: ../data/processed/post/BETA/beta_library.qs\n",
      "Table.COPIES\n",
      "postprocess complete for copies\n",
      "post processed file can be located: ../data/processed/post/BETA/beta_copies.qs\n",
      "Table.MS_ED\n",
      "postprocess complete for ms_ed\n",
      "post processed file can be located: ../data/processed/post/BETA/beta_ms_ed.qs\n",
      "Table.INSTITUTIONS\n",
      "postprocess complete for institutions\n",
      "post processed file can be located: ../data/processed/post/BETA/beta_institutions.qs\n",
      "Table.GEOGRAPHY\n",
      "postprocess complete for geography\n",
      "post processed file can be located: ../data/processed/post/BETA/beta_geography.qs\n",
      "Table.BIBLIOGRAPHY\n",
      "postprocess complete for bibliography\n",
      "post processed file can be located: ../data/processed/post/BETA/beta_bibliography.qs\n",
      "Table.SUBJECT\n",
      "postprocess complete for subject\n",
      "post processed file can be located: ../data/processed/post/BETA/beta_subject.qs\n"
     ]
    }
   ],
   "source": [
    "# Set variables for table and force statements\n",
    "tablenames = ['uniform_title','analytic', 'library', 'copies', 'ms_ed', 'institutions', 'geography', 'bibliography',\n",
    "             'subject']\n",
    "force_new_statements = True\n",
    "\n",
    "for item in tablenames:\n",
    "    table = enums.Table[item.upper()]\n",
    "    print(table)\n",
    "    postprocess.postprocess(table=table, force_new_statements=force_new_statements)\n",
    "    print('postprocess complete for {}'.format(item))\n",
    "    filepath = f'../data/processed/post/BETA/beta_{item}.qs'\n",
    "    print(f'post processed file can be located: {filepath}')\n"
   ]
  },
  {
   "cell_type": "code",
   "execution_count": null,
   "id": "27389a8c-6d82-453f-8fc8-d48022d5a982",
   "metadata": {},
   "outputs": [],
   "source": []
  },
  {
   "cell_type": "code",
   "execution_count": null,
   "id": "39f426ef-1939-4fb4-90c3-42557cad3a05",
   "metadata": {},
   "outputs": [],
   "source": []
  },
  {
   "cell_type": "code",
   "execution_count": null,
   "id": "56affc22-c720-4d09-97ce-4feba5da466a",
   "metadata": {},
   "outputs": [],
   "source": []
  },
  {
   "cell_type": "code",
   "execution_count": null,
   "id": "e4d42361-4905-4e7d-9031-dd33d4c682ed",
   "metadata": {},
   "outputs": [],
   "source": []
  },
  {
   "cell_type": "code",
   "execution_count": null,
   "id": "115dc9be-bf03-41fe-96f6-477607db49ce",
   "metadata": {},
   "outputs": [],
   "source": []
  },
  {
   "cell_type": "code",
   "execution_count": null,
   "id": "5c5449b9-caf6-4533-b266-f1b5183c1584",
   "metadata": {},
   "outputs": [],
   "source": []
  }
 ],
 "metadata": {
  "kernelspec": {
   "display_name": "Python 3 (ipykernel)",
   "language": "python",
   "name": "python3"
  },
  "language_info": {
   "codemirror_mode": {
    "name": "ipython",
    "version": 3
   },
   "file_extension": ".py",
   "mimetype": "text/x-python",
   "name": "python",
   "nbconvert_exporter": "python",
   "pygments_lexer": "ipython3",
   "version": "3.12.5"
  }
 },
 "nbformat": 4,
 "nbformat_minor": 5
}
