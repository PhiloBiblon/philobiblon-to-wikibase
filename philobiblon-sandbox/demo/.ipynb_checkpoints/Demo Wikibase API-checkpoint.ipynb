{
 "cells": [
  {
   "cell_type": "code",
   "execution_count": 1,
   "id": "7c217e0f",
   "metadata": {},
   "outputs": [],
   "source": [
    "from wikibaseintegrator import WikibaseIntegrator, wbi_login\n",
    "from wikibaseintegrator.wbi_config import config as wbi_config"
   ]
  },
  {
   "cell_type": "code",
   "execution_count": 2,
   "id": "22fdf842",
   "metadata": {},
   "outputs": [],
   "source": [
    "# wikibase config\n",
    "wbi_config['MEDIAWIKI_API_URL'] = 'http://localhost/api.php'\n",
    "wbi_config['SPARQL_ENDPOINT_URL'] = 'http://localhost:8834/proxy/wdqs/bigdata/namespace/wdq/sparql'"
   ]
  },
  {
   "cell_type": "code",
   "execution_count": 3,
   "id": "dd1e30bf",
   "metadata": {},
   "outputs": [
    {
     "ename": "LoginError",
     "evalue": "Login failed. Reason: 'Incorrect username or password entered. Please try again.'",
     "output_type": "error",
     "traceback": [
      "\u001b[0;31m---------------------------------------------------------------------------\u001b[0m",
      "\u001b[0;31mLoginError\u001b[0m                                Traceback (most recent call last)",
      "\u001b[0;32m<ipython-input-3-6299832d5385>\u001b[0m in \u001b[0;36m<module>\u001b[0;34m\u001b[0m\n\u001b[1;32m      1\u001b[0m \u001b[0;31m# login\u001b[0m\u001b[0;34m\u001b[0m\u001b[0;34m\u001b[0m\u001b[0;34m\u001b[0m\u001b[0m\n\u001b[0;32m----> 2\u001b[0;31m \u001b[0mlogin_instance\u001b[0m \u001b[0;34m=\u001b[0m \u001b[0mwbi_login\u001b[0m\u001b[0;34m.\u001b[0m\u001b[0mLogin\u001b[0m\u001b[0;34m(\u001b[0m\u001b[0muser\u001b[0m\u001b[0;34m=\u001b[0m\u001b[0;34m'Admin@philobot'\u001b[0m\u001b[0;34m,\u001b[0m \u001b[0mpassword\u001b[0m\u001b[0;34m=\u001b[0m\u001b[0;34m'a5vlsrg8kjplm5tha44kq10sn4m0gk2r'\u001b[0m\u001b[0;34m)\u001b[0m\u001b[0;34m\u001b[0m\u001b[0;34m\u001b[0m\u001b[0m\n\u001b[0m",
      "\u001b[0;32m~/opt/anaconda3/lib/python3.8/site-packages/backoff/_sync.py\u001b[0m in \u001b[0;36mretry\u001b[0;34m(*args, **kwargs)\u001b[0m\n\u001b[1;32m     92\u001b[0m \u001b[0;34m\u001b[0m\u001b[0m\n\u001b[1;32m     93\u001b[0m             \u001b[0;32mtry\u001b[0m\u001b[0;34m:\u001b[0m\u001b[0;34m\u001b[0m\u001b[0;34m\u001b[0m\u001b[0m\n\u001b[0;32m---> 94\u001b[0;31m                 \u001b[0mret\u001b[0m \u001b[0;34m=\u001b[0m \u001b[0mtarget\u001b[0m\u001b[0;34m(\u001b[0m\u001b[0;34m*\u001b[0m\u001b[0margs\u001b[0m\u001b[0;34m,\u001b[0m \u001b[0;34m**\u001b[0m\u001b[0mkwargs\u001b[0m\u001b[0;34m)\u001b[0m\u001b[0;34m\u001b[0m\u001b[0;34m\u001b[0m\u001b[0m\n\u001b[0m\u001b[1;32m     95\u001b[0m             \u001b[0;32mexcept\u001b[0m \u001b[0mexception\u001b[0m \u001b[0;32mas\u001b[0m \u001b[0me\u001b[0m\u001b[0;34m:\u001b[0m\u001b[0;34m\u001b[0m\u001b[0;34m\u001b[0m\u001b[0m\n\u001b[1;32m     96\u001b[0m                 \u001b[0mmax_tries_exceeded\u001b[0m \u001b[0;34m=\u001b[0m \u001b[0;34m(\u001b[0m\u001b[0mtries\u001b[0m \u001b[0;34m==\u001b[0m \u001b[0mmax_tries_\u001b[0m\u001b[0;34m)\u001b[0m\u001b[0;34m\u001b[0m\u001b[0;34m\u001b[0m\u001b[0m\n",
      "\u001b[0;32m~/opt/anaconda3/lib/python3.8/site-packages/wikibaseintegrator/wbi_login.py\u001b[0m in \u001b[0;36m__init__\u001b[0;34m(self, user, password, mediawiki_api_url, token_renew_period, user_agent)\u001b[0m\n\u001b[1;32m    237\u001b[0m             \u001b[0mlog\u001b[0m\u001b[0;34m.\u001b[0m\u001b[0minfo\u001b[0m\u001b[0;34m(\u001b[0m\u001b[0;34m\"Successfully logged in as %s\"\u001b[0m\u001b[0;34m,\u001b[0m \u001b[0mlogin_result\u001b[0m\u001b[0;34m[\u001b[0m\u001b[0;34m'login'\u001b[0m\u001b[0;34m]\u001b[0m\u001b[0;34m[\u001b[0m\u001b[0;34m'lgusername'\u001b[0m\u001b[0;34m]\u001b[0m\u001b[0;34m)\u001b[0m\u001b[0;34m\u001b[0m\u001b[0;34m\u001b[0m\u001b[0m\n\u001b[1;32m    238\u001b[0m         \u001b[0;32melse\u001b[0m\u001b[0;34m:\u001b[0m\u001b[0;34m\u001b[0m\u001b[0;34m\u001b[0m\u001b[0m\n\u001b[0;32m--> 239\u001b[0;31m             \u001b[0;32mraise\u001b[0m \u001b[0mLoginError\u001b[0m\u001b[0;34m(\u001b[0m\u001b[0;34mf\"Login failed. Reason: '{login_result['login']['reason']}'\"\u001b[0m\u001b[0;34m)\u001b[0m\u001b[0;34m\u001b[0m\u001b[0;34m\u001b[0m\u001b[0m\n\u001b[0m\u001b[1;32m    240\u001b[0m \u001b[0;34m\u001b[0m\u001b[0m\n\u001b[1;32m    241\u001b[0m         \u001b[0;32mif\u001b[0m \u001b[0;34m'warnings'\u001b[0m \u001b[0;32min\u001b[0m \u001b[0mlogin_result\u001b[0m\u001b[0;34m:\u001b[0m\u001b[0;34m\u001b[0m\u001b[0;34m\u001b[0m\u001b[0m\n",
      "\u001b[0;31mLoginError\u001b[0m: Login failed. Reason: 'Incorrect username or password entered. Please try again.'"
     ]
    }
   ],
   "source": [
    "# login\n",
    "login_instance = wbi_login.Login(user='Admin@philobot', password='a5vlsrg8kjplm5tha44kq10sn4m0gk2r')"
   ]
  },
  {
   "cell_type": "code",
   "execution_count": null,
   "id": "a4d95379",
   "metadata": {},
   "outputs": [],
   "source": [
    "# create object instance to interact with wikibase\n",
    "wbi = WikibaseIntegrator(login=login_instance)"
   ]
  },
  {
   "cell_type": "code",
   "execution_count": null,
   "id": "b392f58d",
   "metadata": {},
   "outputs": [],
   "source": [
    "# create a new item\n",
    "item = wbi.item.new()\n",
    "item.labels.set(language='en', value='Test item')\n",
    "item.descriptions.set(language='en', value='Item for testing')"
   ]
  },
  {
   "cell_type": "code",
   "execution_count": null,
   "id": "c78d2667",
   "metadata": {},
   "outputs": [],
   "source": [
    "# write new item into wikibase\n",
    "q_item = item.write()"
   ]
  },
  {
   "cell_type": "code",
   "execution_count": null,
   "id": "5d6b0236",
   "metadata": {},
   "outputs": [],
   "source": [
    "# show id for new Q item\n",
    "q_item.id"
   ]
  },
  {
   "cell_type": "code",
   "execution_count": null,
   "id": "68a49ec3",
   "metadata": {},
   "outputs": [],
   "source": [
    "# get q item\n",
    "q1_item = wbi.item.get(entity_id='Q1')\n",
    "q1_item.get_json()"
   ]
  },
  {
   "cell_type": "code",
   "execution_count": null,
   "id": "3b6cec7b",
   "metadata": {},
   "outputs": [],
   "source": [
    "# create property\n",
    "p = wbi.property.new(datatype='string')\n",
    "p.labels.set(language='en', value='PhiloBiblon ID')"
   ]
  },
  {
   "cell_type": "code",
   "execution_count": null,
   "id": "fa169799",
   "metadata": {},
   "outputs": [],
   "source": [
    "# write new property into wikibase\n",
    "p.write()"
   ]
  },
  {
   "cell_type": "code",
   "execution_count": null,
   "id": "93f8aad9",
   "metadata": {},
   "outputs": [],
   "source": [
    "# show id for new property\n",
    "p.id"
   ]
  },
  {
   "cell_type": "code",
   "execution_count": null,
   "id": "61722347",
   "metadata": {},
   "outputs": [],
   "source": [
    "# get property\n",
    "p1_item = wbi.property.get(entity_id='P1')\n",
    "p1_item.get_json()"
   ]
  },
  {
   "cell_type": "code",
   "execution_count": null,
   "id": "be3eb235",
   "metadata": {},
   "outputs": [],
   "source": [
    "# add an statement to the Q item\n",
    "from wikibaseintegrator.datatypes import String\n",
    "q1_item.claims.add(String(value='BETA libid 1', prop_nr='P1'))\n",
    "q1_item.write()"
   ]
  },
  {
   "cell_type": "code",
   "execution_count": null,
   "id": "5733b144",
   "metadata": {},
   "outputs": [],
   "source": [
    "# run a SPARQL query\n",
    "from wikibaseintegrator import wbi_helpers\n",
    "results = wbi_helpers.execute_sparql_query(\"SELECT ?item WHERE { ?item wdt:P1 'BETA libid 1' }\")\n",
    "results"
   ]
  },
  {
   "cell_type": "code",
   "execution_count": null,
   "id": "05751c2a",
   "metadata": {},
   "outputs": [],
   "source": [
    "# get Q number from results\n",
    "q_number = results['results']['bindings'][0]['item']['value'].split('/')[-1]\n",
    "q_number"
   ]
  },
  {
   "cell_type": "code",
   "execution_count": null,
   "id": "7f1eff40",
   "metadata": {},
   "outputs": [],
   "source": [
    "wbi.item.get(q_number)"
   ]
  },
  {
   "cell_type": "code",
   "execution_count": null,
   "id": "888ec1d3",
   "metadata": {},
   "outputs": [],
   "source": []
  }
 ],
 "metadata": {
  "kernelspec": {
   "display_name": "Python 3",
   "language": "python",
   "name": "python3"
  },
  "language_info": {
   "codemirror_mode": {
    "name": "ipython",
    "version": 3
   },
   "file_extension": ".py",
   "mimetype": "text/x-python",
   "name": "python",
   "nbconvert_exporter": "python",
   "pygments_lexer": "ipython3",
   "version": "3.8.8"
  }
 },
 "nbformat": 4,
 "nbformat_minor": 5
}
