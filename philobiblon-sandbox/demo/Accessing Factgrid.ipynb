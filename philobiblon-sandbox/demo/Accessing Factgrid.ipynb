{
 "cells": [
  {
   "cell_type": "code",
   "execution_count": null,
   "id": "4bddb54a",
   "metadata": {},
   "outputs": [],
   "source": [
    "from wikibaseintegrator import WikibaseIntegrator, wbi_login\n",
    "from wikibaseintegrator.wbi_config import config as wbi_config"
   ]
  },
  {
   "cell_type": "code",
   "execution_count": null,
   "id": "581da337",
   "metadata": {},
   "outputs": [],
   "source": [
    "# wikibase config\n",
    "wbi_config['MEDIAWIKI_API_URL'] = 'https://database.factgrid.de/w/api.php'\n",
    "wbi_config['SPARQL_ENDPOINT_URL'] = 'https://database.factgrid.de/sparql'"
   ]
  },
  {
   "cell_type": "code",
   "execution_count": null,
   "id": "3e9eb402",
   "metadata": {},
   "outputs": [],
   "source": [
    "# create object instance to interact with wikibase\n",
    "wbi = WikibaseIntegrator()"
   ]
  },
  {
   "cell_type": "code",
   "execution_count": null,
   "id": "0d101978",
   "metadata": {},
   "outputs": [],
   "source": [
    "# get q item\n",
    "q1_item = wbi.item.get(entity_id='Q2')\n",
    "q1_item.get_json()"
   ]
  },
  {
   "cell_type": "code",
   "execution_count": null,
   "id": "fc964d25",
   "metadata": {},
   "outputs": [],
   "source": []
  }
 ],
 "metadata": {
  "kernelspec": {
   "display_name": "Python 3",
   "language": "python",
   "name": "python3"
  },
  "language_info": {
   "codemirror_mode": {
    "name": "ipython",
    "version": 3
   },
   "file_extension": ".py",
   "mimetype": "text/x-python",
   "name": "python",
   "nbconvert_exporter": "python",
   "pygments_lexer": "ipython3",
   "version": "3.8.10"
  }
 },
 "nbformat": 4,
 "nbformat_minor": 5
}
