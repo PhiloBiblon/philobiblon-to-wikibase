{
 "cells": [
  {
   "cell_type": "code",
   "execution_count": null,
   "id": "7c217e0f",
   "metadata": {},
   "outputs": [],
   "source": [
    "from wikibaseintegrator import WikibaseIntegrator, wbi_login\n",
    "from wikibaseintegrator.wbi_config import config as wbi_config"
   ]
  },
  {
   "cell_type": "code",
   "execution_count": null,
   "id": "22fdf842",
   "metadata": {},
   "outputs": [],
   "source": [
    "# wikibase config\n",
    "wbi_config['MEDIAWIKI_API_URL'] = 'http://localhost/api.php'\n",
    "wbi_config['SPARQL_ENDPOINT_URL'] = 'http://localhost:8834/proxy/wdqs/bigdata/namespace/wdq/sparql'"
   ]
  },
  {
   "cell_type": "code",
   "execution_count": null,
   "id": "dd1e30bf",
   "metadata": {},
   "outputs": [],
   "source": [
    "# login\n",
    "login_instance = wbi_login.Login(user='Admin@philobot', password='a5vlsrg8kjplm5tha44kq10sn4m0gk2r')"
   ]
  },
  {
   "cell_type": "code",
   "execution_count": null,
   "id": "a4d95379",
   "metadata": {},
   "outputs": [],
   "source": [
    "# create object instance to interact with wikibase\n",
    "wbi = WikibaseIntegrator(login=login_instance)"
   ]
  },
  {
   "cell_type": "code",
   "execution_count": null,
   "id": "b392f58d",
   "metadata": {},
   "outputs": [],
   "source": [
    "# create a new item\n",
    "item = wbi.item.new()\n",
    "item.labels.set(language='en', value='Test item')\n",
    "item.descriptions.set(language='en', value='Item for testing')"
   ]
  },
  {
   "cell_type": "code",
   "execution_count": null,
   "id": "c78d2667",
   "metadata": {},
   "outputs": [],
   "source": [
    "# write new item into wikibase\n",
    "q_item = item.write()"
   ]
  },
  {
   "cell_type": "code",
   "execution_count": null,
   "id": "5d6b0236",
   "metadata": {},
   "outputs": [],
   "source": [
    "# show id for new Q item\n",
    "q_item.id"
   ]
  },
  {
   "cell_type": "code",
   "execution_count": null,
   "id": "68a49ec3",
   "metadata": {},
   "outputs": [],
   "source": [
    "# get q item\n",
    "q1_item = wbi.item.get(entity_id='Q1')\n",
    "q1_item.get_json()"
   ]
  },
  {
   "cell_type": "code",
   "execution_count": null,
   "id": "3b6cec7b",
   "metadata": {},
   "outputs": [],
   "source": [
    "# create property\n",
    "p = wbi.property.new(datatype='string')\n",
    "p.labels.set(language='en', value='PhiloBiblon ID')"
   ]
  },
  {
   "cell_type": "code",
   "execution_count": null,
   "id": "fa169799",
   "metadata": {},
   "outputs": [],
   "source": [
    "# write new property into wikibase\n",
    "p.write()"
   ]
  },
  {
   "cell_type": "code",
   "execution_count": null,
   "id": "93f8aad9",
   "metadata": {},
   "outputs": [],
   "source": [
    "# show id for new property\n",
    "p.id"
   ]
  },
  {
   "cell_type": "code",
   "execution_count": null,
   "id": "61722347",
   "metadata": {},
   "outputs": [],
   "source": [
    "# get property\n",
    "p1_item = wbi.property.get(entity_id='P1')\n",
    "p1_item.get_json()"
   ]
  },
  {
   "cell_type": "code",
   "execution_count": null,
   "id": "be3eb235",
   "metadata": {},
   "outputs": [],
   "source": [
    "# add an statement to the Q item\n",
    "from wikibaseintegrator.datatypes import String\n",
    "q1_item.claims.add(String(value='BETA libid 1', prop_nr='P1'))\n",
    "q1_item.write()"
   ]
  },
  {
   "cell_type": "code",
   "execution_count": null,
   "id": "5733b144",
   "metadata": {},
   "outputs": [],
   "source": [
    "# run a SPARQL query\n",
    "from wikibaseintegrator import wbi_helpers\n",
    "results = wbi_helpers.execute_sparql_query(\"SELECT ?item WHERE { ?item wdt:P1 'BETA libid 1' }\")\n",
    "results"
   ]
  },
  {
   "cell_type": "code",
   "execution_count": null,
   "id": "05751c2a",
   "metadata": {},
   "outputs": [],
   "source": [
    "# get Q number from results\n",
    "q_number = results['results']['bindings'][0]['item']['value'].split('/')[-1]\n",
    "q_number"
   ]
  },
  {
   "cell_type": "code",
   "execution_count": null,
   "id": "7f1eff40",
   "metadata": {},
   "outputs": [],
   "source": [
    "wbi.item.get(q_number)"
   ]
  },
  {
   "cell_type": "code",
   "execution_count": null,
   "id": "888ec1d3",
   "metadata": {},
   "outputs": [],
   "source": []
  }
 ],
 "metadata": {
  "kernelspec": {
   "display_name": "Python 3",
   "language": "python",
   "name": "python3"
  },
  "language_info": {
   "codemirror_mode": {
    "name": "ipython",
    "version": 3
   },
   "file_extension": ".py",
   "mimetype": "text/x-python",
   "name": "python",
   "nbconvert_exporter": "python",
   "pygments_lexer": "ipython3",
   "version": "3.8.10"
  }
 },
 "nbformat": 4,
 "nbformat_minor": 5
}
